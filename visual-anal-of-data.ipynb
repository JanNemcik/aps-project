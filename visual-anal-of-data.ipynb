{
 "cells": [
  {
   "cell_type": "code",
   "execution_count": 2,
   "metadata": {},
   "outputs": [],
   "source": [
    "import matplotlib.pyplot as plt\n",
    "import numpy as np\n",
    "import pandas as pd\n",
    "import statsmodels.api as sm\n",
    "from pandas import Series, DataFrame\n",
    "import seaborn as sns\n",
    "from sklearn import datasets\n",
    "from sklearn import svm\n",
    "%matplotlib inline\n",
    "    \n",
    "import matplotlib.pyplot as plt\n",
    "import numpy as np\n",
    "import pandas as pd\n",
    "import statsmodels.api as sm\n",
    "from pandas import Series, DataFrame\n",
    "import seaborn as sns\n",
    "from patsy import dmatrices\n",
    "import sklearn.ensemble as ske\n",
    "from sklearn import datasets\n",
    "from sklearn.decomposition import PCA\n",
    "from scipy.stats import norm\n",
    "from sklearn import preprocessing\n",
    "from sklearn.ensemble import RandomForestClassifier\n",
    "from sklearn import model_selection\n",
    "from scipy.stats import boxcox\n",
    "from sklearn.model_selection import cross_val_score\n",
    "from sklearn.linear_model import LogisticRegression\n",
    "from sklearn.naive_bayes import GaussianNB\n",
    "from sklearn.ensemble import RandomForestClassifier\n",
    "from sklearn.neighbors import KNeighborsClassifier\n",
    "from sklearn import tree\n",
    "from sklearn.metrics import accuracy_score\n",
    "from sklearn.neighbors import KNeighborsClassifier\n",
    "from sklearn.svm import SVC, LinearSVC\n",
    "from sklearn.tree import DecisionTreeClassifier\n",
    "from sklearn import svm\n",
    "import matplotlib.pyplot as plt\n",
    "import numpy as np\n",
    "import pandas as pd\n",
    "import statsmodels.api as sm\n",
    "from pandas import Series, DataFrame\n",
    "%matplotlib inline    \n",
    "from sklearn.model_selection import learning_curve, GridSearchCV\n",
    "from sklearn.datasets import make_classification\n",
    "from sklearn.ensemble import RandomForestClassifier\n",
    "import statsmodels.api as sm\n",
    "from pandas import Series, DataFrame\n",
    "import seaborn as sns\n",
    "from patsy import dmatrices\n",
    "import sklearn.ensemble as ske\n",
    "from sklearn import datasets\n",
    "from scipy.stats import norm\n",
    "from sklearn import preprocessing\n",
    "from sklearn.ensemble import RandomForestClassifier\n",
    "from sklearn import model_selection\n",
    "from scipy.stats import boxcox\n",
    "from sklearn.model_selection import cross_val_score\n",
    "from sklearn.linear_model import LogisticRegression\n",
    "from sklearn.naive_bayes import GaussianNB\n",
    "from sklearn.ensemble import RandomForestClassifier\n",
    "from sklearn.neighbors import KNeighborsClassifier\n",
    "from sklearn import tree\n",
    "from sklearn.metrics import accuracy_score\n",
    "from sklearn.neighbors import KNeighborsClassifier\n",
    "from sklearn.svm import SVC, LinearSVC\n",
    "from sklearn.tree import DecisionTreeClassifier\n",
    "from sklearn import svm\n",
    "from sklearn.model_selection import train_test_split\n",
    "import json"
   ]
  },
  {
   "cell_type": "code",
   "execution_count": 94,
   "metadata": {},
   "outputs": [],
   "source": [
    "# reading the JSON data using json.load()\n",
    "file = 'result.json'\n",
    "dict_train=[]\n",
    "with open(file) as train_file:\n",
    "    dict_train = json.load(train_file)\n",
    "\n",
    "# converting json dataset from dictionary to dataframe\n",
    "train = pd.DataFrame.from_dict(dict_train)\n"
   ]
  },
  {
   "cell_type": "code",
   "execution_count": 95,
   "metadata": {},
   "outputs": [],
   "source": [
    "goal=train.loc[train['group'] != 1]\n",
    "# goal=goal.loc[goal['numofcores'] != 1]"
   ]
  },
  {
   "cell_type": "code",
   "execution_count": 96,
   "metadata": {},
   "outputs": [
    {
     "data": {
      "text/html": [
       "<div>\n",
       "<style scoped>\n",
       "    .dataframe tbody tr th:only-of-type {\n",
       "        vertical-align: middle;\n",
       "    }\n",
       "\n",
       "    .dataframe tbody tr th {\n",
       "        vertical-align: top;\n",
       "    }\n",
       "\n",
       "    .dataframe thead th {\n",
       "        text-align: right;\n",
       "    }\n",
       "</style>\n",
       "<table border=\"1\" class=\"dataframe\">\n",
       "  <thead>\n",
       "    <tr style=\"text-align: right;\">\n",
       "      <th></th>\n",
       "      <th>id</th>\n",
       "      <th>time</th>\n",
       "      <th>cpuname</th>\n",
       "      <th>memusage</th>\n",
       "      <th>cpuusage</th>\n",
       "      <th>arch</th>\n",
       "      <th>timestamp</th>\n",
       "      <th>numofcores</th>\n",
       "      <th>hostname</th>\n",
       "      <th>username</th>\n",
       "      <th>group</th>\n",
       "    </tr>\n",
       "  </thead>\n",
       "  <tbody>\n",
       "    <tr>\n",
       "      <th>3</th>\n",
       "      <td>74</td>\n",
       "      <td>739.87</td>\n",
       "      <td>Intel(R) Core(TM) i5-5300U CPU @ 2.30GHz</td>\n",
       "      <td>983516</td>\n",
       "      <td>101</td>\n",
       "      <td>x86_64</td>\n",
       "      <td>2019-11-23T17:43:28.020Z</td>\n",
       "      <td>2</td>\n",
       "      <td>jany-Latitude-E7450</td>\n",
       "      <td>root</td>\n",
       "      <td>Physical machine</td>\n",
       "    </tr>\n",
       "    <tr>\n",
       "      <th>4</th>\n",
       "      <td>73</td>\n",
       "      <td>977.64</td>\n",
       "      <td>Intel(R) Core(TM) i5-5300U CPU @ 2.30GHz</td>\n",
       "      <td>983224</td>\n",
       "      <td>99</td>\n",
       "      <td>x86_64</td>\n",
       "      <td>2019-11-23T17:30:49.907Z</td>\n",
       "      <td>2</td>\n",
       "      <td>jany-Latitude-E7450</td>\n",
       "      <td>root</td>\n",
       "      <td>Physical machine</td>\n",
       "    </tr>\n",
       "    <tr>\n",
       "      <th>5</th>\n",
       "      <td>72</td>\n",
       "      <td>969.60</td>\n",
       "      <td>Intel(R) Core(TM) i5-5300U CPU @ 2.30GHz</td>\n",
       "      <td>983148</td>\n",
       "      <td>98</td>\n",
       "      <td>x86_64</td>\n",
       "      <td>2019-11-23T17:14:10.632Z</td>\n",
       "      <td>2</td>\n",
       "      <td>jany-Latitude-E7450</td>\n",
       "      <td>root</td>\n",
       "      <td>Physical machine</td>\n",
       "    </tr>\n",
       "    <tr>\n",
       "      <th>6</th>\n",
       "      <td>71</td>\n",
       "      <td>789.41</td>\n",
       "      <td>Intel(R) Core(TM) i5-5300U CPU @ 2.30GHz</td>\n",
       "      <td>983456</td>\n",
       "      <td>100</td>\n",
       "      <td>x86_64</td>\n",
       "      <td>2019-11-23T16:57:40.642Z</td>\n",
       "      <td>2</td>\n",
       "      <td>jany-Latitude-E7450</td>\n",
       "      <td>root</td>\n",
       "      <td>Physical machine</td>\n",
       "    </tr>\n",
       "    <tr>\n",
       "      <th>7</th>\n",
       "      <td>70</td>\n",
       "      <td>1264.77</td>\n",
       "      <td>Intel(R) Core(TM) i5-5300U CPU @ 2.30GHz</td>\n",
       "      <td>983288</td>\n",
       "      <td>99</td>\n",
       "      <td>x86_64</td>\n",
       "      <td>2019-11-23T16:44:12.238Z</td>\n",
       "      <td>1</td>\n",
       "      <td>jany-Latitude-E7450</td>\n",
       "      <td>root</td>\n",
       "      <td>Physical machine</td>\n",
       "    </tr>\n",
       "    <tr>\n",
       "      <th>...</th>\n",
       "      <td>...</td>\n",
       "      <td>...</td>\n",
       "      <td>...</td>\n",
       "      <td>...</td>\n",
       "      <td>...</td>\n",
       "      <td>...</td>\n",
       "      <td>...</td>\n",
       "      <td>...</td>\n",
       "      <td>...</td>\n",
       "      <td>...</td>\n",
       "      <td>...</td>\n",
       "    </tr>\n",
       "    <tr>\n",
       "      <th>61</th>\n",
       "      <td>15</td>\n",
       "      <td>615.79</td>\n",
       "      <td>Intel(R) Core(TM) i5-5300U CPU @ 2.30GHz</td>\n",
       "      <td>983216</td>\n",
       "      <td>97</td>\n",
       "      <td>x86_64</td>\n",
       "      <td>2019-11-14T11:32:36.494Z</td>\n",
       "      <td>3</td>\n",
       "      <td>jany-Latitude-E7450</td>\n",
       "      <td>root</td>\n",
       "      <td>Physical machine</td>\n",
       "    </tr>\n",
       "    <tr>\n",
       "      <th>62</th>\n",
       "      <td>14</td>\n",
       "      <td>623.21</td>\n",
       "      <td>Intel(R) Core(TM) i5-5300U CPU @ 2.30GHz</td>\n",
       "      <td>991396</td>\n",
       "      <td>88</td>\n",
       "      <td>x86_64</td>\n",
       "      <td>2019-11-14T11:15:39.866Z</td>\n",
       "      <td>4</td>\n",
       "      <td>e02ec2185b09</td>\n",
       "      <td>docker</td>\n",
       "      <td>Docker</td>\n",
       "    </tr>\n",
       "    <tr>\n",
       "      <th>63</th>\n",
       "      <td>12</td>\n",
       "      <td>1026.34</td>\n",
       "      <td>Intel(R) Core(TM) i5-5300U CPU @ 2.30GHz</td>\n",
       "      <td>991264</td>\n",
       "      <td>68</td>\n",
       "      <td>x86_64</td>\n",
       "      <td>2019-11-14T00:24:01.056Z</td>\n",
       "      <td>4</td>\n",
       "      <td>2a859360a398</td>\n",
       "      <td>docker</td>\n",
       "      <td>Docker</td>\n",
       "    </tr>\n",
       "    <tr>\n",
       "      <th>64</th>\n",
       "      <td>11</td>\n",
       "      <td>814.26</td>\n",
       "      <td>Intel(R) Core(TM) i5-5300U CPU @ 2.30GHz</td>\n",
       "      <td>991344</td>\n",
       "      <td>75</td>\n",
       "      <td>x86_64</td>\n",
       "      <td>2019-11-13T23:56:09.096Z</td>\n",
       "      <td>4</td>\n",
       "      <td>ea03907378da</td>\n",
       "      <td>docker</td>\n",
       "      <td>Docker</td>\n",
       "    </tr>\n",
       "    <tr>\n",
       "      <th>65</th>\n",
       "      <td>10</td>\n",
       "      <td>828.92</td>\n",
       "      <td>Intel(R) Core(TM) i5-5300U CPU @ 2.30GHz</td>\n",
       "      <td>991264</td>\n",
       "      <td>72</td>\n",
       "      <td>x86_64</td>\n",
       "      <td>2019-11-13T23:37:25.377Z</td>\n",
       "      <td>4</td>\n",
       "      <td>f6f8af431685</td>\n",
       "      <td>docker</td>\n",
       "      <td>Docker</td>\n",
       "    </tr>\n",
       "  </tbody>\n",
       "</table>\n",
       "<p>63 rows × 11 columns</p>\n",
       "</div>"
      ],
      "text/plain": [
       "    id     time                                   cpuname  memusage  cpuusage  \\\n",
       "3   74   739.87  Intel(R) Core(TM) i5-5300U CPU @ 2.30GHz    983516       101   \n",
       "4   73   977.64  Intel(R) Core(TM) i5-5300U CPU @ 2.30GHz    983224        99   \n",
       "5   72   969.60  Intel(R) Core(TM) i5-5300U CPU @ 2.30GHz    983148        98   \n",
       "6   71   789.41  Intel(R) Core(TM) i5-5300U CPU @ 2.30GHz    983456       100   \n",
       "7   70  1264.77  Intel(R) Core(TM) i5-5300U CPU @ 2.30GHz    983288        99   \n",
       "..  ..      ...                                       ...       ...       ...   \n",
       "61  15   615.79  Intel(R) Core(TM) i5-5300U CPU @ 2.30GHz    983216        97   \n",
       "62  14   623.21  Intel(R) Core(TM) i5-5300U CPU @ 2.30GHz    991396        88   \n",
       "63  12  1026.34  Intel(R) Core(TM) i5-5300U CPU @ 2.30GHz    991264        68   \n",
       "64  11   814.26  Intel(R) Core(TM) i5-5300U CPU @ 2.30GHz    991344        75   \n",
       "65  10   828.92  Intel(R) Core(TM) i5-5300U CPU @ 2.30GHz    991264        72   \n",
       "\n",
       "      arch                 timestamp  numofcores             hostname  \\\n",
       "3   x86_64  2019-11-23T17:43:28.020Z           2  jany-Latitude-E7450   \n",
       "4   x86_64  2019-11-23T17:30:49.907Z           2  jany-Latitude-E7450   \n",
       "5   x86_64  2019-11-23T17:14:10.632Z           2  jany-Latitude-E7450   \n",
       "6   x86_64  2019-11-23T16:57:40.642Z           2  jany-Latitude-E7450   \n",
       "7   x86_64  2019-11-23T16:44:12.238Z           1  jany-Latitude-E7450   \n",
       "..     ...                       ...         ...                  ...   \n",
       "61  x86_64  2019-11-14T11:32:36.494Z           3  jany-Latitude-E7450   \n",
       "62  x86_64  2019-11-14T11:15:39.866Z           4         e02ec2185b09   \n",
       "63  x86_64  2019-11-14T00:24:01.056Z           4         2a859360a398   \n",
       "64  x86_64  2019-11-13T23:56:09.096Z           4         ea03907378da   \n",
       "65  x86_64  2019-11-13T23:37:25.377Z           4         f6f8af431685   \n",
       "\n",
       "   username             group  \n",
       "3      root  Physical machine  \n",
       "4      root  Physical machine  \n",
       "5      root  Physical machine  \n",
       "6      root  Physical machine  \n",
       "7      root  Physical machine  \n",
       "..      ...               ...  \n",
       "61     root  Physical machine  \n",
       "62   docker            Docker  \n",
       "63   docker            Docker  \n",
       "64   docker            Docker  \n",
       "65   docker            Docker  \n",
       "\n",
       "[63 rows x 11 columns]"
      ]
     },
     "execution_count": 96,
     "metadata": {},
     "output_type": "execute_result"
    }
   ],
   "source": [
    "goal"
   ]
  },
  {
   "cell_type": "code",
   "execution_count": 97,
   "metadata": {},
   "outputs": [
    {
     "data": {
      "image/png": "[encoded data removed]",
      "text/plain": [
       "<Figure size 432x288 with 1 Axes>"
      ]
     },
     "metadata": {
      "needs_background": "light"
     },
     "output_type": "display_data"
    }
   ],
   "source": [
    "\n",
    "ax = sns.barplot(x=\"numofcores\", y=\"cpuusage\",hue=\"group\", data=goal)\n",
    "ax.set(xlabel='Number of CPU cores', ylabel='CPU usage [%]')\n",
    "ax.legend(title='Virtualization type')\n",
    "ax.get_figure().savefig(\"cmp_cpu_plot.png\")"
   ]
  },
  {
   "cell_type": "code",
   "execution_count": 110,
   "metadata": {},
   "outputs": [
    {
     "data": {
      "text/plain": [
       "37898.83"
      ]
     },
     "execution_count": 110,
     "metadata": {},
     "output_type": "execute_result"
    }
   ],
   "source": [
    "goal=train.loc[train['group'] != 1]\n",
    "# goal_core1=goal.loc[goal['numofcores'] == 1]\n",
    "goal_core1['time'].mean()"
   ]
  },
  {
   "cell_type": "code",
   "execution_count": 112,
   "metadata": {},
   "outputs": [
    {
     "data": {
      "image/png": "[encoded data removed]",
      "text/plain": [
       "<Figure size 432x288 with 1 Axes>"
      ]
     },
     "metadata": {
      "needs_background": "light"
     },
     "output_type": "display_data"
    }
   ],
   "source": [
    "ax = sns.boxplot(x=\"numofcores\", y=\"time\",hue=\"group\", data=goal)\n",
    "ax.set(xlabel='Number of CPU cores', ylabel='Time [s]')\n",
    "ax.get_figure().savefig(\"boxplot.png\")"
   ]
  },
  {
   "cell_type": "code",
   "execution_count": 100,
   "metadata": {},
   "outputs": [
    {
     "data": {
      "text/plain": [
       "98.0"
      ]
     },
     "execution_count": 100,
     "metadata": {},
     "output_type": "execute_result"
    }
   ],
   "source": [
    "fake=train.loc[train['group'] == 1]\n",
    "fake_core1=fake.loc[fake['numofcores'] == 1]\n",
    "fake_core1['cpuusage'].mean()"
   ]
  },
  {
   "cell_type": "code",
   "execution_count": 101,
   "metadata": {},
   "outputs": [
    {
     "data": {
      "text/plain": [
       "97.0"
      ]
     },
     "execution_count": 101,
     "metadata": {},
     "output_type": "execute_result"
    }
   ],
   "source": [
    "fake=train.loc[train['group'] == 1]\n",
    "fake_core1=fake.loc[fake['numofcores'] == 2]\n",
    "fake_core1['cpuusage'].mean()"
   ]
  },
  {
   "cell_type": "code",
   "execution_count": 102,
   "metadata": {},
   "outputs": [
    {
     "data": {
      "text/plain": [
       "29.0"
      ]
     },
     "execution_count": 102,
     "metadata": {},
     "output_type": "execute_result"
    }
   ],
   "source": [
    "fake=train.loc[train['group'] == 1]\n",
    "fake_core1=fake.loc[fake['numofcores'] == 3]\n",
    "fake_core1['cpuusage'].mean()"
   ]
  },
  {
   "cell_type": "code",
   "execution_count": 103,
   "metadata": {},
   "outputs": [
    {
     "data": {
      "text/html": [
       "<div>\n",
       "<style scoped>\n",
       "    .dataframe tbody tr th:only-of-type {\n",
       "        vertical-align: middle;\n",
       "    }\n",
       "\n",
       "    .dataframe tbody tr th {\n",
       "        vertical-align: top;\n",
       "    }\n",
       "\n",
       "    .dataframe thead th {\n",
       "        text-align: right;\n",
       "    }\n",
       "</style>\n",
       "<table border=\"1\" class=\"dataframe\">\n",
       "  <thead>\n",
       "    <tr style=\"text-align: right;\">\n",
       "      <th></th>\n",
       "      <th>id</th>\n",
       "      <th>time</th>\n",
       "      <th>cpuname</th>\n",
       "      <th>memusage</th>\n",
       "      <th>cpuusage</th>\n",
       "      <th>arch</th>\n",
       "      <th>timestamp</th>\n",
       "      <th>numofcores</th>\n",
       "      <th>hostname</th>\n",
       "      <th>username</th>\n",
       "      <th>group</th>\n",
       "    </tr>\n",
       "  </thead>\n",
       "  <tbody>\n",
       "    <tr>\n",
       "      <th>1</th>\n",
       "      <td>76</td>\n",
       "      <td>20376.45</td>\n",
       "      <td>QEMU Virtual CPU version 2.5+</td>\n",
       "      <td>946512</td>\n",
       "      <td>29</td>\n",
       "      <td>i686</td>\n",
       "      <td>2019-11-24T11:21:23.548Z</td>\n",
       "      <td>3</td>\n",
       "      <td>debian</td>\n",
       "      <td>root</td>\n",
       "      <td>1</td>\n",
       "    </tr>\n",
       "  </tbody>\n",
       "</table>\n",
       "</div>"
      ],
      "text/plain": [
       "   id      time                        cpuname  memusage  cpuusage  arch  \\\n",
       "1  76  20376.45  QEMU Virtual CPU version 2.5+    946512        29  i686   \n",
       "\n",
       "                  timestamp  numofcores hostname username group  \n",
       "1  2019-11-24T11:21:23.548Z           3   debian     root     1  "
      ]
     },
     "execution_count": 103,
     "metadata": {},
     "output_type": "execute_result"
    }
   ],
   "source": [
    "fake=train.loc[train['group'] == 1]\n",
    "# fake_core1=fake.loc[fake['numofcores'] == 4]\n",
    "fake_core1"
   ]
  },
  {
   "cell_type": "code",
   "execution_count": 90,
   "metadata": {},
   "outputs": [
    {
     "data": {
      "text/plain": [
       "946402.75"
      ]
     },
     "execution_count": 90,
     "metadata": {},
     "output_type": "execute_result"
    }
   ],
   "source": [
    "fake['memusage'].mean()"
   ]
  },
  {
   "cell_type": "code",
   "execution_count": 113,
   "metadata": {},
   "outputs": [
    {
     "data": {
      "image/png": "[encoded data removed]",
      "text/plain": [
       "<Figure size 432x288 with 1 Axes>"
      ]
     },
     "metadata": {
      "needs_background": "light"
     },
     "output_type": "display_data"
    }
   ],
   "source": [
    "ax = sns.lineplot(x=\"numofcores\", y=\"time\", data=fake)\n",
    "ax.set(xlabel='Number of CPU cores', ylabel='CPU usage [%]')\n",
    "ax.set(xticks=[1,2,3,4])\n",
    "ax.get_figure().savefig(\"time_sw.png\")"
   ]
  },
  {
   "cell_type": "code",
   "execution_count": 9,
   "metadata": {},
   "outputs": [
    {
     "data": {
      "text/plain": [
       "<matplotlib.collections.PathCollection at 0x7f20e43ca048>"
      ]
     },
     "execution_count": 9,
     "metadata": {},
     "output_type": "execute_result"
    },
    {
     "data": {
      "image/png": "[encoded data removed]",
      "text/plain": [
       "<Figure size 432x288 with 1 Axes>"
      ]
     },
     "metadata": {
      "needs_background": "light"
     },
     "output_type": "display_data"
    }
   ],
   "source": [
    "import matplotlib.pyplot as plt \n",
    "plt.scatter(fake['numofcores'], fake['cpuusage'])"
   ]
  },
  {
   "cell_type": "code",
   "execution_count": 25,
   "metadata": {},
   "outputs": [],
   "source": [
    "# fake.to_json(r'array.json')\n",
    "fake_file = 'array.json'\n",
    "fake_train=[]\n",
    "with open(fake_file) as fake_file:\n",
    "    fake_train = json.load(fake_file)\n",
    "\n",
    "# converting json dataset from dictionary to dataframe\n",
    "fake_train = pd.DataFrame.from_dict(fake_train)"
   ]
  },
  {
   "cell_type": "code",
   "execution_count": 27,
   "metadata": {},
   "outputs": [
    {
     "data": {
      "text/plain": [
       "[Text(0, 0.5, 'Time [s]'), Text(0.5, 0, 'Number of CPU cores')]"
      ]
     },
     "execution_count": 27,
     "metadata": {},
     "output_type": "execute_result"
    },
    {
     "data": {
      "image/png": "[encoded data removed]",
      "text/plain": [
       "<Figure size 432x288 with 1 Axes>"
      ]
     },
     "metadata": {
      "needs_background": "light"
     },
     "output_type": "display_data"
    }
   ],
   "source": [
    "ax = sns.lineplot(x=\"numofcores\", y=\"time\", data=fake_train)\n",
    "ax.set(xlabel='Number of CPU cores', ylabel='Time [s]')"
   ]
  },
  {
   "cell_type": "code",
   "execution_count": 28,
   "metadata": {},
   "outputs": [],
   "source": [
    "ax.get_figure().savefig(\"sw_prediction.png\")"
   ]
  },
  {
   "cell_type": "code",
   "execution_count": 65,
   "metadata": {},
   "outputs": [],
   "source": [
    "import pandas\n",
    "from sklearn import model_selection\n",
    "from sklearn.linear_model import LogisticRegression\n",
    "import pickle\n",
    "from sklearn.model_selection import train_test_split\n",
    "fake, target = fake_train[fake_train.columns[fake_train.columns != 'numofcores']], fake_train['numofcores']\n",
    "X_train, X_test, Y_train, Y_test = train_test_split(fake, target, test_size=0.3, random_state=0)"
   ]
  },
  {
   "cell_type": "code",
   "execution_count": 66,
   "metadata": {},
   "outputs": [
    {
     "data": {
      "text/plain": [
       "0     27\n",
       "1     26\n",
       "2     25\n",
       "3     24\n",
       "4     23\n",
       "5     22\n",
       "6     21\n",
       "7     20\n",
       "8     19\n",
       "9     18\n",
       "10    17\n",
       "11    16\n",
       "12    15\n",
       "13    14\n",
       "14    13\n",
       "15    12\n",
       "16    11\n",
       "17    10\n",
       "18     9\n",
       "19     8\n",
       "20     7\n",
       "21     6\n",
       "22     5\n",
       "23     4\n",
       "24     3\n",
       "25     2\n",
       "26     1\n",
       "Name: numofcores, dtype: int64"
      ]
     },
     "execution_count": 66,
     "metadata": {},
     "output_type": "execute_result"
    }
   ],
   "source": [
    "d = {'time': [1350,1700], 'memusage': [948503, 988503], 'cpuusage': [65, 33]}\n",
    "df = pd.DataFrame(data=d)\n",
    "target"
   ]
  },
  {
   "cell_type": "code",
   "execution_count": 69,
   "metadata": {},
   "outputs": [
    {
     "data": {
      "text/plain": [
       "<matplotlib.collections.PathCollection at 0x7f1a4ad18978>"
      ]
     },
     "execution_count": 69,
     "metadata": {},
     "output_type": "execute_result"
    },
    {
     "data": {
      "image/png": "[encoded data removed]",
      "text/plain": [
       "<Figure size 432x288 with 1 Axes>"
      ]
     },
     "metadata": {
      "needs_background": "light"
     },
     "output_type": "display_data"
    }
   ],
   "source": [
    "from matplotlib import pyplot as plt\n",
    "\n",
    "import matplotlib.pyplot as plt \n",
    "plt.scatter(target, fake['time'])\n"
   ]
  },
  {
   "cell_type": "code",
   "execution_count": 63,
   "metadata": {},
   "outputs": [
    {
     "ename": "ValueError",
     "evalue": "could not convert string to float: 'root'",
     "output_type": "error",
     "traceback": [
      "\u001b[0;31m---------------------------------------------------------------------------\u001b[0m",
      "\u001b[0;31mValueError\u001b[0m                                Traceback (most recent call last)",
      "\u001b[0;32m<ipython-input-63-89f5c188f360>\u001b[0m in \u001b[0;36m<module>\u001b[0;34m\u001b[0m\n\u001b[1;32m      2\u001b[0m \u001b[0;34m\u001b[0m\u001b[0m\n\u001b[1;32m      3\u001b[0m clf = LogisticRegression(random_state=0, solver='lbfgs',\n\u001b[0;32m----> 4\u001b[0;31m                          multi_class='multinomial').fit(X_train, Y_train)\n\u001b[0m\u001b[1;32m      5\u001b[0m \u001b[0;34m\u001b[0m\u001b[0m\n\u001b[1;32m      6\u001b[0m \u001b[0;34m\u001b[0m\u001b[0m\n",
      "\u001b[0;32m~/school/aps/project/aps/lib/python3.7/site-packages/sklearn/linear_model/logistic.py\u001b[0m in \u001b[0;36mfit\u001b[0;34m(self, X, y, sample_weight)\u001b[0m\n\u001b[1;32m   1530\u001b[0m \u001b[0;34m\u001b[0m\u001b[0m\n\u001b[1;32m   1531\u001b[0m         X, y = check_X_y(X, y, accept_sparse='csr', dtype=_dtype, order=\"C\",\n\u001b[0;32m-> 1532\u001b[0;31m                          accept_large_sparse=solver != 'liblinear')\n\u001b[0m\u001b[1;32m   1533\u001b[0m         \u001b[0mcheck_classification_targets\u001b[0m\u001b[0;34m(\u001b[0m\u001b[0my\u001b[0m\u001b[0;34m)\u001b[0m\u001b[0;34m\u001b[0m\u001b[0;34m\u001b[0m\u001b[0m\n\u001b[1;32m   1534\u001b[0m         \u001b[0mself\u001b[0m\u001b[0;34m.\u001b[0m\u001b[0mclasses_\u001b[0m \u001b[0;34m=\u001b[0m \u001b[0mnp\u001b[0m\u001b[0;34m.\u001b[0m\u001b[0munique\u001b[0m\u001b[0;34m(\u001b[0m\u001b[0my\u001b[0m\u001b[0;34m)\u001b[0m\u001b[0;34m\u001b[0m\u001b[0;34m\u001b[0m\u001b[0m\n",
      "\u001b[0;32m~/school/aps/project/aps/lib/python3.7/site-packages/sklearn/utils/validation.py\u001b[0m in \u001b[0;36mcheck_X_y\u001b[0;34m(X, y, accept_sparse, accept_large_sparse, dtype, order, copy, force_all_finite, ensure_2d, allow_nd, multi_output, ensure_min_samples, ensure_min_features, y_numeric, warn_on_dtype, estimator)\u001b[0m\n\u001b[1;32m    717\u001b[0m                     \u001b[0mensure_min_features\u001b[0m\u001b[0;34m=\u001b[0m\u001b[0mensure_min_features\u001b[0m\u001b[0;34m,\u001b[0m\u001b[0;34m\u001b[0m\u001b[0;34m\u001b[0m\u001b[0m\n\u001b[1;32m    718\u001b[0m                     \u001b[0mwarn_on_dtype\u001b[0m\u001b[0;34m=\u001b[0m\u001b[0mwarn_on_dtype\u001b[0m\u001b[0;34m,\u001b[0m\u001b[0;34m\u001b[0m\u001b[0;34m\u001b[0m\u001b[0m\n\u001b[0;32m--> 719\u001b[0;31m                     estimator=estimator)\n\u001b[0m\u001b[1;32m    720\u001b[0m     \u001b[0;32mif\u001b[0m \u001b[0mmulti_output\u001b[0m\u001b[0;34m:\u001b[0m\u001b[0;34m\u001b[0m\u001b[0;34m\u001b[0m\u001b[0m\n\u001b[1;32m    721\u001b[0m         y = check_array(y, 'csr', force_all_finite=True, ensure_2d=False,\n",
      "\u001b[0;32m~/school/aps/project/aps/lib/python3.7/site-packages/sklearn/utils/validation.py\u001b[0m in \u001b[0;36mcheck_array\u001b[0;34m(array, accept_sparse, accept_large_sparse, dtype, order, copy, force_all_finite, ensure_2d, allow_nd, ensure_min_samples, ensure_min_features, warn_on_dtype, estimator)\u001b[0m\n\u001b[1;32m    494\u001b[0m             \u001b[0;32mtry\u001b[0m\u001b[0;34m:\u001b[0m\u001b[0;34m\u001b[0m\u001b[0;34m\u001b[0m\u001b[0m\n\u001b[1;32m    495\u001b[0m                 \u001b[0mwarnings\u001b[0m\u001b[0;34m.\u001b[0m\u001b[0msimplefilter\u001b[0m\u001b[0;34m(\u001b[0m\u001b[0;34m'error'\u001b[0m\u001b[0;34m,\u001b[0m \u001b[0mComplexWarning\u001b[0m\u001b[0;34m)\u001b[0m\u001b[0;34m\u001b[0m\u001b[0;34m\u001b[0m\u001b[0m\n\u001b[0;32m--> 496\u001b[0;31m                 \u001b[0marray\u001b[0m \u001b[0;34m=\u001b[0m \u001b[0mnp\u001b[0m\u001b[0;34m.\u001b[0m\u001b[0masarray\u001b[0m\u001b[0;34m(\u001b[0m\u001b[0marray\u001b[0m\u001b[0;34m,\u001b[0m \u001b[0mdtype\u001b[0m\u001b[0;34m=\u001b[0m\u001b[0mdtype\u001b[0m\u001b[0;34m,\u001b[0m \u001b[0morder\u001b[0m\u001b[0;34m=\u001b[0m\u001b[0morder\u001b[0m\u001b[0;34m)\u001b[0m\u001b[0;34m\u001b[0m\u001b[0;34m\u001b[0m\u001b[0m\n\u001b[0m\u001b[1;32m    497\u001b[0m             \u001b[0;32mexcept\u001b[0m \u001b[0mComplexWarning\u001b[0m\u001b[0;34m:\u001b[0m\u001b[0;34m\u001b[0m\u001b[0;34m\u001b[0m\u001b[0m\n\u001b[1;32m    498\u001b[0m                 raise ValueError(\"Complex data not supported\\n\"\n",
      "\u001b[0;32m~/school/aps/project/aps/lib/python3.7/site-packages/numpy/core/_asarray.py\u001b[0m in \u001b[0;36masarray\u001b[0;34m(a, dtype, order)\u001b[0m\n\u001b[1;32m     83\u001b[0m \u001b[0;34m\u001b[0m\u001b[0m\n\u001b[1;32m     84\u001b[0m     \"\"\"\n\u001b[0;32m---> 85\u001b[0;31m     \u001b[0;32mreturn\u001b[0m \u001b[0marray\u001b[0m\u001b[0;34m(\u001b[0m\u001b[0ma\u001b[0m\u001b[0;34m,\u001b[0m \u001b[0mdtype\u001b[0m\u001b[0;34m,\u001b[0m \u001b[0mcopy\u001b[0m\u001b[0;34m=\u001b[0m\u001b[0;32mFalse\u001b[0m\u001b[0;34m,\u001b[0m \u001b[0morder\u001b[0m\u001b[0;34m=\u001b[0m\u001b[0morder\u001b[0m\u001b[0;34m)\u001b[0m\u001b[0;34m\u001b[0m\u001b[0;34m\u001b[0m\u001b[0m\n\u001b[0m\u001b[1;32m     86\u001b[0m \u001b[0;34m\u001b[0m\u001b[0m\n\u001b[1;32m     87\u001b[0m \u001b[0;34m\u001b[0m\u001b[0m\n",
      "\u001b[0;31mValueError\u001b[0m: could not convert string to float: 'root'"
     ]
    }
   ],
   "source": [
    "from sklearn.linear_model import LogisticRegression\n",
    "\n",
    "clf = LogisticRegression(random_state=0, solver='lbfgs',\n",
    "                         multi_class='multinomial').fit(X_train, Y_train)\n",
    "\n",
    "\n",
    "\n",
    "\n",
    "\n",
    "\n",
    "\n"
   ]
  },
  {
   "cell_type": "code",
   "execution_count": null,
   "metadata": {},
   "outputs": [],
   "source": []
  }
 ],
 "metadata": {
  "kernelspec": {
   "display_name": "Python 3",
   "language": "python",
   "name": "python3"
  },
  "language_info": {
   "codemirror_mode": {
    "name": "ipython",
    "version": 3
   },
   "file_extension": ".py",
   "mimetype": "text/x-python",
   "name": "python",
   "nbconvert_exporter": "python",
   "pygments_lexer": "ipython3",
   "version": "3.7.3"
  }
 },
 "nbformat": 4,
 "nbformat_minor": 2
}
